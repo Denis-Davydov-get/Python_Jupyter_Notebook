{
 "cells": [
  {
   "cell_type": "code",
   "execution_count": 1,
   "metadata": {},
   "outputs": [],
   "source": [
    "import pandas as pd"
   ]
  },
  {
   "cell_type": "markdown",
   "metadata": {},
   "source": [
    "Будем работать с датасетом по оттоку клиентов из банка https://www.kaggle.com/datasets/shubh0799/churn-modelling, но датасет из себя будет представлять две таблицы:\n",
    "\n",
    "Личные данные клиента\n",
    "\n",
    "CustomerId - Уникальный идентификатор клиента\n",
    "Surname - Фамилия клиента\n",
    "Geography - Из какой страны клиент\n",
    "Gender - Пол клиента\n",
    "Age - Возраст клиента\n",
    "EstimatedSalary - Предположительная зарплата клиента\n",
    "Данные по поведению клиента в банке\n",
    "\n",
    "CustomerId - Уникальный идентификатор клиента\n",
    "CustomerId - Уникальный идентификатор клиента\n",
    "Tenure - Сколько лет человек является клиентом банка\n",
    "Balance - Баланс счета\n",
    "NumOfProducts - Количество открытых продуктов\n",
    "HasCrCard - Есть ли у клиента кредитная карта\n",
    "IsActiveMember - Является ли клиент активные участником\n",
    "Exited - Уйдет ли человек в отток"
   ]
  },
  {
   "cell_type": "code",
   "execution_count": 3,
   "metadata": {},
   "outputs": [
    {
     "data": {
      "text/html": [
       "<div>\n",
       "<style scoped>\n",
       "    .dataframe tbody tr th:only-of-type {\n",
       "        vertical-align: middle;\n",
       "    }\n",
       "\n",
       "    .dataframe tbody tr th {\n",
       "        vertical-align: top;\n",
       "    }\n",
       "\n",
       "    .dataframe thead th {\n",
       "        text-align: right;\n",
       "    }\n",
       "</style>\n",
       "<table border=\"1\" class=\"dataframe\">\n",
       "  <thead>\n",
       "    <tr style=\"text-align: right;\">\n",
       "      <th></th>\n",
       "      <th>RowNumber,CustomerId,Surname,CreditScore,Geography,Gender,Age,Tenure,Balance,NumOfProducts,HasCrCard,IsActiveMember,EstimatedSalary,Exited</th>\n",
       "    </tr>\n",
       "  </thead>\n",
       "  <tbody>\n",
       "    <tr>\n",
       "      <th>0</th>\n",
       "      <td>1,15634602,Hargrave,619,France,Female,42,2,0,1...</td>\n",
       "    </tr>\n",
       "    <tr>\n",
       "      <th>1</th>\n",
       "      <td>2,15647311,Hill,608,Spain,Female,41,1,83807.86...</td>\n",
       "    </tr>\n",
       "    <tr>\n",
       "      <th>2</th>\n",
       "      <td>3,15619304,Onio,502,France,Female,42,8,159660....</td>\n",
       "    </tr>\n",
       "    <tr>\n",
       "      <th>3</th>\n",
       "      <td>4,15701354,Boni,699,France,Female,39,1,0,2,0,0...</td>\n",
       "    </tr>\n",
       "    <tr>\n",
       "      <th>4</th>\n",
       "      <td>5,15737888,Mitchell,850,Spain,Female,43,2,1255...</td>\n",
       "    </tr>\n",
       "  </tbody>\n",
       "</table>\n",
       "</div>"
      ],
      "text/plain": [
       "  RowNumber,CustomerId,Surname,CreditScore,Geography,Gender,Age,Tenure,Balance,NumOfProducts,HasCrCard,IsActiveMember,EstimatedSalary,Exited\n",
       "0  1,15634602,Hargrave,619,France,Female,42,2,0,1...                                                                                        \n",
       "1  2,15647311,Hill,608,Spain,Female,41,1,83807.86...                                                                                        \n",
       "2  3,15619304,Onio,502,France,Female,42,8,159660....                                                                                        \n",
       "3  4,15701354,Boni,699,France,Female,39,1,0,2,0,0...                                                                                        \n",
       "4  5,15737888,Mitchell,850,Spain,Female,43,2,1255...                                                                                        "
      ]
     },
     "execution_count": 3,
     "metadata": {},
     "output_type": "execute_result"
    }
   ],
   "source": [
    "users = pd.read_csv('Churn_Modelling.csv', sep=';')\n",
    "users.head()"
   ]
  },
  {
   "cell_type": "code",
   "execution_count": 4,
   "metadata": {},
   "outputs": [
    {
     "data": {
      "text/plain": [
       "(10000, 1)"
      ]
     },
     "execution_count": 4,
     "metadata": {},
     "output_type": "execute_result"
    }
   ],
   "source": [
    "users.shape"
   ]
  },
  {
   "cell_type": "markdown",
   "metadata": {},
   "source": [
    "Создание новых признаков"
   ]
  }
 ],
 "metadata": {
  "kernelspec": {
   "display_name": "Python 3",
   "language": "python",
   "name": "python3"
  },
  "language_info": {
   "codemirror_mode": {
    "name": "ipython",
    "version": 3
   },
   "file_extension": ".py",
   "mimetype": "text/x-python",
   "name": "python",
   "nbconvert_exporter": "python",
   "pygments_lexer": "ipython3",
   "version": "3.10.0"
  },
  "orig_nbformat": 4
 },
 "nbformat": 4,
 "nbformat_minor": 2
}
